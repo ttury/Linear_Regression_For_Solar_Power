{
  "nbformat": 4,
  "nbformat_minor": 0,
  "metadata": {
    "colab": {
      "name": "Dust_To_Solar_Power.ipynb",
      "provenance": [],
      "collapsed_sections": [],
      "authorship_tag": "ABX9TyPqMAp31VsRUBUe+aT2VegM",
      "include_colab_link": true
    },
    "kernelspec": {
      "name": "python3",
      "display_name": "Python 3"
    },
    "language_info": {
      "name": "python"
    }
  },
  "cells": [
    {
      "cell_type": "markdown",
      "metadata": {
        "id": "view-in-github",
        "colab_type": "text"
      },
      "source": [
        "<a href=\"https://colab.research.google.com/github/ttury/Linear_Regression_For_Solar_Power/blob/main/Dust_To_Solar_Power.ipynb\" target=\"_parent\"><img src=\"https://colab.research.google.com/assets/colab-badge.svg\" alt=\"Open In Colab\"/></a>"
      ]
    },
    {
      "cell_type": "code",
      "metadata": {
        "colab": {
          "base_uri": "https://localhost:8080/"
        },
        "id": "ZBKbwGCd0bjq",
        "outputId": "c97e46ae-eff8-4c5b-e1f0-12e863c6bbe3"
      },
      "source": [
        "import pandas as pd\n",
        "import numpy as np\n",
        "import matplotlib.pyplot as plt\n",
        "from sklearn.datasets import load_diabetes\n",
        "\n",
        "dust_2019 = pd.read_csv('jindo_dust_2019.csv')\n",
        "sun_2019 = pd.read_csv('jindo_sun_2019.csv')\n",
        "\n",
        "\n",
        "dust_datas = dust_2019.values[:, 3].astype(np.float)\n",
        "sun_datas = sun_2019.values[:, 28].astype(np.float)\n",
        "\n",
        "print(dust_datas)\n",
        "print(sun_datas)"
      ],
      "execution_count": 137,
      "outputs": [
        {
          "output_type": "stream",
          "text": [
            "[ 19.  20.  21.  37.  43.  19.  32.  44.  24.  23.  57.  64.  72. 101.\n",
            "  74.  20.  21.  48.  59.  28.  18.  62.  74.  24.  25.  20.  20.  40.\n",
            "  39.  38.  38.  22.  46.  45.  68.  57.  37.  35.  17.  20.  23.  21.\n",
            "  48.  62.  31.  25.  37.  19.  35.  29.  38.  60.  73.  66.  48.  58.\n",
            "  28.  45.  48.  29.  32.  29.  38.  58.  29.  39.  34.  25.  28.  23.\n",
            "  35.  46.  29.  23.  19.  18.  16.  48.  56.  61.  26.  27.  18.  17.\n",
            "  26.  23.  24.  51.  56.  43.  28.  16.  10.  19.  27.  28.  30.  34.\n",
            "  28.  19.  17.  28.  24.  33.  31.  19.  16.  37.  14.  15.  15.  14.\n",
            "  23.  42.  52.  48.  58.  52.  33.  28.  20.  24.  24.  20.  30.  42.\n",
            "  33.  34.  22.  22.  11.  10.  17.  28.  46.  61.  52.  30.  26.  18.\n",
            "  15.  30.  36.  21.  29.  36.  27.  37.  40.  34.  22.  19.  28.  17.\n",
            "  18.  24.  27.  40.  25.  19.  23.  26.  34.  25.  25.  28.  21.  23.\n",
            "  30.  13.  15.  23.  20.  20.  19.  21.  23.  23.  31.  31.  21.  17.\n",
            "  18.  17.  10.  15.  22.  31.  28.  24.  23.  10.   6.   6.  21.  17.\n",
            "  13.  20.  22.  22.  27.  12.  16.  13.  11.  10.  13.  25.  25.  32.\n",
            "  42.  33.  17.  14.  21.  17.  21.  18.  25.  23.  19.  35.  34.  23.\n",
            "  34.  15.  27.  29.  27.  20.  14.   9.  16.  15.  21.  28.  20.  22.\n",
            "  13.   9.  10.  15.  16.  14.  12.  29.  25.  15.  15.  16.  19.  24.\n",
            "  39.  23.  23.  27.  11.  11.  16.  27.  24.  28.  21.  36.  43.  28.\n",
            "   7.  27.  45.  28.  14.  11.  24.  38.  37.  19.  29.  20.  30.  38.\n",
            "  25.  18.  31.  33.  24.  28.  30.  35.  16.  13.  23.  41.  17.  27.\n",
            "  74.  54.  38.  29.  33.  30.  24.  13.  25.  35.  28.  20.  28.  18.\n",
            "  19.  20.  15.  42.  20.  20.  21.  20.  19.  20.  20.  27.  22.  31.\n",
            "  13.  34.  24.  16.  15.  27.  20.  16.  27.  17.  28.  36.  45.  18.\n",
            "  21.  22.  22.  10.  21.  18.  11.  24.  35.  37.  38.  49.  43.  35.\n",
            "  12.  29.  20.  22.  24.]\n",
            "[1613304. 1554336. 4428576.  640656. 3183408. 4770792. 4118256. 1880784.\n",
            " 2460312. 2439576. 3361104. 3140136. 4135680. 3300768. 3253824. 4069800.\n",
            " 2568960. 4551696. 1006776. 4056480. 4682592. 4617360. 4336848. 5345568.\n",
            " 1704240. 4527432. 5483952. 3144240. 5586120. 1142280. 1256544. 4455864.\n",
            " 3763656.  143280. 5258160. 5257872. 3946176. 1609344. 3292632. 2716056.\n",
            " 3191616. 2405016. 4662288. 5242032. 2942928. 1380960. 2221704. 5066064.\n",
            " 1064016. 1088568. 2795040. 4955040. 1763424. 5242752. 5694696. 5010480.\n",
            " 5657472. 1072800. 6152688. 6409944. 2775096. 1351584. 3171960. 4675752.\n",
            " 5883048. 5738112. 3318624. 5933808. 6148080. 3332664. 5271480.  792216.\n",
            " 1805544. 6157008. 4907880. 6458544. 4182696. 5675112. 5354856. 4861440.\n",
            " 5576976. 4873032. 5005152. 6062616. 6453432. 6453072. 6055344. 5102928.\n",
            " 5409288.  845784. 5882760. 1186632. 1120608. 3075552. 6129000. 3180888.\n",
            " 2181168. 6479640. 4772808. 3539088. 4071312. 2474928. 4466520. 2680272.\n",
            " 4418784. 1481832. 1538568. 1513512. 1352232.  906048. 1627992.  496800.\n",
            " 3598848. 3435336. 4691376. 4657752. 4575384. 4185576. 4831920. 4843656.\n",
            " 4309848. 4234608. 1590192. 4673016. 4704624. 3135312. 4268376. 1947600.\n",
            " 1404720. 2682360.  752472. 1156320. 4070448. 4893048. 4214088. 4264416.\n",
            " 4145616. 3381048. 2744856.  637344. 4579560. 5716008. 4074984. 5070816.\n",
            " 4772664. 5579496. 6160752. 6095448. 6094008. 2349504. 1183824. 1607256.\n",
            "  907344. 2106000. 1070064. 4390632. 1207008. 1153584.  911664. 4703904.\n",
            " 4094064. 3129552. 4341888. 4418640. 4844520.  818856. 4220928. 4890168.\n",
            " 4301352. 2060064. 1888416. 4791744.  211968. 3307608. 1214352. 4479624.\n",
            " 3715128. 4611888. 3111192. 4834008. 1659168. 1558944. 3016152. 1207008.\n",
            " 1411128. 4011336. 3282048. 4637592. 3885048. 4618800. 2682792. 1280088.\n",
            "  595080. 1080504. 3191976. 2106864. 2817216. 1767240. 2218392. 1048752.\n",
            "  729288. 1459656.  696888.  394128.  426024. 1867968. 1665144. 1914408.\n",
            " 2006712. 3530232. 3163680. 1615608.  792504. 3341232.  637560. 1219176.\n",
            "  686088.  854712. 1659096.  676440.  442224. 1605672. 4588344. 3945960.\n",
            " 1196424. 1268064. 2341224.  363312. 2893248. 2086128. 2292120.  822024.\n",
            " 1819728. 1078488. 5744520. 4559184. 1136520. 1204848. 1649952. 1237248.\n",
            " 2840616. 1460016. 2109096. 1427400. 1443816. 2652624. 4898520. 1437624.\n",
            " 5015664. 5008248. 4109400. 4919184. 5391648. 5141376. 5618592. 5103144.\n",
            "  341280. 5916672. 5439456. 4167792. 3981888. 3038400. 3980304. 4799736.\n",
            " 4452264.  873216.  625752. 3885552. 4970880. 1265472. 3385080.  605016.\n",
            " 5456880. 5356080. 5323176. 5462352. 2890584. 2004984. 5184144. 1923120.\n",
            " 2177064. 4399632. 5161104. 5076072. 5202360. 1561752. 3589200. 4164120.\n",
            " 2610000. 4510008. 4555800. 4519080. 5535720. 5110056. 3774384. 3404664.\n",
            " 3749112. 2826864. 4404960. 4947408. 3433536. 5487624. 5201928. 1457136.\n",
            " 2916504. 3452328.  851184. 4753224. 4843584. 2852640.  866304.  914544.\n",
            " 1569168. 5163840. 4021848. 3560616. 4541904. 2500560.  711576.  569736.\n",
            "  618696. 4126752. 4995504. 4144752.   92304. 1536192. 1464696. 2911248.\n",
            " 4534056. 3048264. 3674880. 3960504. 3463272. 3478896. 1446192.  795672.\n",
            " 2571408.  484344. 1480176. 1049544.  181512.  195264.  709056. 1808280.\n",
            "  638424. 1475064. 2148264. 3927888. 3637008.  456480.  831024. 3902688.\n",
            "  283176.  800640. 1941192.]\n"
          ],
          "name": "stdout"
        }
      ]
    },
    {
      "cell_type": "code",
      "metadata": {
        "colab": {
          "base_uri": "https://localhost:8080/"
        },
        "id": "nEfiQOxe02_F",
        "outputId": "199beebc-792f-4ca1-a74a-cd00f6559f81"
      },
      "source": [
        "class Neuron:\n",
        "\n",
        "  def __init__(self):\n",
        "    self.w = 1.0\n",
        "    self.b = 1.0\n",
        "\n",
        "  def forpass(self, x_data):\n",
        "    y_hat = self.w * x_data + self.b\n",
        "    return y_hat\n",
        "  \n",
        "  def backprop(self, x_data, err):\n",
        "    w_gradiant = x_data * err\n",
        "    b_gradiant = 1 * err\n",
        "    return w_gradiant, b_gradiant\n",
        "  \n",
        "  def fit(self, x_datas, y_datas, epochs = 100):\n",
        "    for _ in range(epochs):\n",
        "      for x_data, y_data in zip(x_datas, y_datas):\n",
        "        y_hat = self.forpass(x_data)\n",
        "        err = (y_data - y_hat) # edited from book\n",
        "        w_gradiant, b_gradiant = self.backprop(x_data, err)\n",
        "        self.w += w_gradiant\n",
        "        self.b += b_gradiant\n",
        "\n",
        "neuron = Neuron()\n",
        "neuron.fit(dust_datas, sun_datas)\n",
        "print(neuron.w)"
      ],
      "execution_count": 138,
      "outputs": [
        {
          "output_type": "stream",
          "text": [
            "nan\n"
          ],
          "name": "stdout"
        },
        {
          "output_type": "stream",
          "text": [
            "/usr/local/lib/python3.7/dist-packages/ipykernel_launcher.py:8: RuntimeWarning: overflow encountered in double_scalars\n",
            "  \n",
            "/usr/local/lib/python3.7/dist-packages/ipykernel_launcher.py:22: RuntimeWarning: invalid value encountered in double_scalars\n",
            "/usr/local/lib/python3.7/dist-packages/ipykernel_launcher.py:23: RuntimeWarning: invalid value encountered in double_scalars\n"
          ],
          "name": "stderr"
        }
      ]
    },
    {
      "cell_type": "code",
      "metadata": {
        "colab": {
          "base_uri": "https://localhost:8080/",
          "height": 276
        },
        "id": "cKud_EQc68Ow",
        "outputId": "6b3dff51-5e6d-4e92-a9bd-bba82f3b20d7"
      },
      "source": [
        "plt.scatter(dust_datas, sun_datas)\n",
        "plt.show()"
      ],
      "execution_count": 140,
      "outputs": [
        {
          "output_type": "display_data",
          "data": {
            "image/png": "[encoded data removed]",
            "text/plain": [
              "<Figure size 432x288 with 1 Axes>"
            ]
          },
          "metadata": {
            "tags": [],
            "needs_background": "light"
          }
        }
      ]
    },
    {
      "cell_type": "code",
      "metadata": {
        "id": "IcKLnV9t7OSt"
      },
      "source": [
        ""
      ],
      "execution_count": null,
      "outputs": []
    }
  ]
}