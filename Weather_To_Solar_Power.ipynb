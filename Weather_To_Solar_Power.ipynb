{
  "nbformat": 4,
  "nbformat_minor": 0,
  "metadata": {
    "colab": {
      "name": "Weather_To_Solar_Power.ipynb",
      "provenance": [],
      "collapsed_sections": [],
      "authorship_tag": "ABX9TyPmrr48IsYDF1EAWaXEvHfc",
      "include_colab_link": true
    },
    "kernelspec": {
      "name": "python3",
      "display_name": "Python 3"
    },
    "language_info": {
      "name": "python"
    }
  },
  "cells": [
    {
      "cell_type": "markdown",
      "metadata": {
        "id": "view-in-github",
        "colab_type": "text"
      },
      "source": [
        "<a href=\"https://colab.research.google.com/github/ttury/Linear_Regression_For_Solar_Power/blob/main/Weather_To_Solar_Power.ipynb\" target=\"_parent\"><img src=\"https://colab.research.google.com/assets/colab-badge.svg\" alt=\"Open In Colab\"/></a>"
      ]
    },
    {
      "cell_type": "code",
      "metadata": {
        "id": "oaFMb4bNtsbL"
      },
      "source": [
        "import pandas as pd\n",
        "import numpy as np\n",
        "import matplotlib.pyplot as plt\n",
        "from sklearn.datasets import load_diabetes\n",
        "\n",
        "weather_2019 = pd.read_csv('jindo_weather_2019.csv')\n",
        "sun_2019 = pd.read_csv('jindo_sun_2019.csv')\n",
        "\n",
        "\n",
        "weather_datas = weather_2019.values[:, 8].astype(np.float)\n",
        "sun_datas = sun_2019.values[:, 28].astype(np.float) / 1000000.0"
      ],
      "execution_count": 67,
      "outputs": []
    },
    {
      "cell_type": "code",
      "metadata": {
        "colab": {
          "base_uri": "https://localhost:8080/"
        },
        "id": "scevxViKvFxB",
        "outputId": "21edc114-1e6a-42d7-a1eb-66b5776ee211"
      },
      "source": [
        "class Neuron:\n",
        "\n",
        "  def __init__(self):\n",
        "    self.w = 1\n",
        "    self.b = 1\n",
        "\n",
        "  def forpass(self, x_data):\n",
        "    y_hat = self.w * x_data + self.b\n",
        "    return y_hat\n",
        "  \n",
        "  def backprop(self, x_data, err):\n",
        "    w_gradiant = x_data * err\n",
        "    b_gradiant = 1 * err\n",
        "    return w_gradiant, b_gradiant\n",
        "  \n",
        "  def fit(self, x_datas, y_datas, epochs = 1):\n",
        "    for _ in range(epochs):\n",
        "      for x_data, y_data in zip(x_datas, y_datas):\n",
        "        y_hat = self.forpass(x_data)\n",
        "        err = (y_data - y_hat) # edited from book\n",
        "        w_gradiant, b_gradiant = self.backprop(x_data, err)\n",
        "        self.w += 0.01 * w_gradiant\n",
        "        self.b += 0.01 * b_gradiant\n",
        "\n",
        "neuron = Neuron()\n",
        "\n",
        "neuron.fit(weather_datas, sun_datas)\n",
        "print(neuron.w)"
      ],
      "execution_count": 68,
      "outputs": [
        {
          "output_type": "stream",
          "text": [
            "0.34122211561544324\n"
          ],
          "name": "stdout"
        }
      ]
    },
    {
      "cell_type": "code",
      "metadata": {
        "colab": {
          "base_uri": "https://localhost:8080/",
          "height": 265
        },
        "id": "jez78PoKu7ye",
        "outputId": "f720b491-7f55-4079-fa43-e76062f9f5c1"
      },
      "source": [
        "plt.scatter(weather_datas, sun_datas)\n",
        "pos_1 = [0.0, neuron.w * 0 + neuron.b]\n",
        "pos_2 = [12.0, neuron.w * 12 + neuron.b]\n",
        "plt.plot([pos_1[0], pos_2[0]], [pos_1[1], pos_2[1]])\n",
        "plt.show()"
      ],
      "execution_count": 70,
      "outputs": [
        {
          "output_type": "display_data",
          "data": {
            "image/png": "[encoded data removed]",
            "text/plain": [
              "<Figure size 432x288 with 1 Axes>"
            ]
          },
          "metadata": {
            "tags": [],
            "needs_background": "light"
          }
        }
      ]
    },
    {
      "cell_type": "code",
      "metadata": {
        "id": "3nLV9tEI-hF2"
      },
      "source": [
        ""
      ],
      "execution_count": null,
      "outputs": []
    }
  ]
}